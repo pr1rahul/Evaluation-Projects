{
 "cells": [
  {
   "cell_type": "markdown",
   "id": "16194a93",
   "metadata": {},
   "source": [
    "# Avocado Project"
   ]
  },
  {
   "cell_type": "markdown",
   "id": "510b84e7",
   "metadata": {},
   "source": [
    "**Project Description:**\n",
    "This data was downloaded from the Hass Avocado Board website in May of 2018 & compiled into a single CSV. \n",
    "The table below represents weekly 2018 retail scan data for National retail volume (units) and price. Retail scan data comes directly from retailers’ cash registers based on actual retail sales of Hass avocados. \n",
    "Starting in 2013, the table below reflects an expanded, multi-outlet retail data set. Multi-outlet reporting includes an aggregation of the following channels: grocery, mass, club, drug, dollar and military. The Average Price (of avocados) in the table reflects a per unit (per avocado) cost, even when multiple units (avocados) are sold in bags. \n",
    "The Product Lookup codes (PLU’s) in the table are only for Hass avocados. Other varieties of avocados (e.g. greenskins) are not included in this table.\n",
    "Some relevant columns in the dataset:\n",
    "•\tDate - The date of the observation\n",
    "•\tAveragePrice - the average price of a single avocado\n",
    "•\ttype - conventional or organic\n",
    "•\tyear - the year\n",
    "•\tRegion - the city or region of the observation\n",
    "•\tTotal Volume - Total number of avocados sold\n",
    "•\t4046 - Total number of avocados with PLU 4046 sold\n",
    "•\t4225 - Total number of avocados with PLU 4225 sold\n",
    "•\t4770 - Total number of avocados with PLU 4770 sold\n",
    "\n",
    "Inspiration /Label \n",
    "The dataset can be seen in two angles to find the region and find the average price .\n",
    "Task: One of Classification and other of Regression\n",
    "Do both tasks in the same .ipynb file and submit at single file. \n",
    "\n",
    "Dataset Link-\n",
    "•\thttps://github.com/FlipRoboTechnologies/ML_-Datasets/blob/main/Avocado/avocado.csv.zip\n"
   ]
  },
  {
   "cell_type": "code",
   "execution_count": 1,
   "id": "1e4f0553",
   "metadata": {},
   "outputs": [],
   "source": [
    "# importing necessary libraries\n",
    "import pandas as pd\n",
    "import numpy as np\n",
    "import matplotlib.pyplot as plt\n",
    "import seaborn as sns"
   ]
  },
  {
   "cell_type": "code",
   "execution_count": 2,
   "id": "10998a71",
   "metadata": {},
   "outputs": [
    {
     "data": {
      "text/html": [
       "<div>\n",
       "<style scoped>\n",
       "    .dataframe tbody tr th:only-of-type {\n",
       "        vertical-align: middle;\n",
       "    }\n",
       "\n",
       "    .dataframe tbody tr th {\n",
       "        vertical-align: top;\n",
       "    }\n",
       "\n",
       "    .dataframe thead th {\n",
       "        text-align: right;\n",
       "    }\n",
       "</style>\n",
       "<table border=\"1\" class=\"dataframe\">\n",
       "  <thead>\n",
       "    <tr style=\"text-align: right;\">\n",
       "      <th></th>\n",
       "      <th>Unnamed: 0</th>\n",
       "      <th>Date</th>\n",
       "      <th>AveragePrice</th>\n",
       "      <th>Total Volume</th>\n",
       "      <th>4046</th>\n",
       "      <th>4225</th>\n",
       "      <th>4770</th>\n",
       "      <th>Total Bags</th>\n",
       "      <th>Small Bags</th>\n",
       "      <th>Large Bags</th>\n",
       "      <th>XLarge Bags</th>\n",
       "      <th>type</th>\n",
       "      <th>year</th>\n",
       "      <th>region</th>\n",
       "    </tr>\n",
       "  </thead>\n",
       "  <tbody>\n",
       "    <tr>\n",
       "      <th>0</th>\n",
       "      <td>0</td>\n",
       "      <td>2015-12-27</td>\n",
       "      <td>1.33</td>\n",
       "      <td>64236.62</td>\n",
       "      <td>1036.74</td>\n",
       "      <td>54454.85</td>\n",
       "      <td>48.16</td>\n",
       "      <td>8696.87</td>\n",
       "      <td>8603.62</td>\n",
       "      <td>93.25</td>\n",
       "      <td>0.0</td>\n",
       "      <td>conventional</td>\n",
       "      <td>2015</td>\n",
       "      <td>Albany</td>\n",
       "    </tr>\n",
       "    <tr>\n",
       "      <th>1</th>\n",
       "      <td>1</td>\n",
       "      <td>2015-12-20</td>\n",
       "      <td>1.35</td>\n",
       "      <td>54876.98</td>\n",
       "      <td>674.28</td>\n",
       "      <td>44638.81</td>\n",
       "      <td>58.33</td>\n",
       "      <td>9505.56</td>\n",
       "      <td>9408.07</td>\n",
       "      <td>97.49</td>\n",
       "      <td>0.0</td>\n",
       "      <td>conventional</td>\n",
       "      <td>2015</td>\n",
       "      <td>Albany</td>\n",
       "    </tr>\n",
       "    <tr>\n",
       "      <th>2</th>\n",
       "      <td>2</td>\n",
       "      <td>2015-12-13</td>\n",
       "      <td>0.93</td>\n",
       "      <td>118220.22</td>\n",
       "      <td>794.70</td>\n",
       "      <td>109149.67</td>\n",
       "      <td>130.50</td>\n",
       "      <td>8145.35</td>\n",
       "      <td>8042.21</td>\n",
       "      <td>103.14</td>\n",
       "      <td>0.0</td>\n",
       "      <td>conventional</td>\n",
       "      <td>2015</td>\n",
       "      <td>Albany</td>\n",
       "    </tr>\n",
       "    <tr>\n",
       "      <th>3</th>\n",
       "      <td>3</td>\n",
       "      <td>2015-12-06</td>\n",
       "      <td>1.08</td>\n",
       "      <td>78992.15</td>\n",
       "      <td>1132.00</td>\n",
       "      <td>71976.41</td>\n",
       "      <td>72.58</td>\n",
       "      <td>5811.16</td>\n",
       "      <td>5677.40</td>\n",
       "      <td>133.76</td>\n",
       "      <td>0.0</td>\n",
       "      <td>conventional</td>\n",
       "      <td>2015</td>\n",
       "      <td>Albany</td>\n",
       "    </tr>\n",
       "    <tr>\n",
       "      <th>4</th>\n",
       "      <td>4</td>\n",
       "      <td>2015-11-29</td>\n",
       "      <td>1.28</td>\n",
       "      <td>51039.60</td>\n",
       "      <td>941.48</td>\n",
       "      <td>43838.39</td>\n",
       "      <td>75.78</td>\n",
       "      <td>6183.95</td>\n",
       "      <td>5986.26</td>\n",
       "      <td>197.69</td>\n",
       "      <td>0.0</td>\n",
       "      <td>conventional</td>\n",
       "      <td>2015</td>\n",
       "      <td>Albany</td>\n",
       "    </tr>\n",
       "  </tbody>\n",
       "</table>\n",
       "</div>"
      ],
      "text/plain": [
       "   Unnamed: 0        Date  AveragePrice  Total Volume     4046       4225  \\\n",
       "0           0  2015-12-27          1.33      64236.62  1036.74   54454.85   \n",
       "1           1  2015-12-20          1.35      54876.98   674.28   44638.81   \n",
       "2           2  2015-12-13          0.93     118220.22   794.70  109149.67   \n",
       "3           3  2015-12-06          1.08      78992.15  1132.00   71976.41   \n",
       "4           4  2015-11-29          1.28      51039.60   941.48   43838.39   \n",
       "\n",
       "     4770  Total Bags  Small Bags  Large Bags  XLarge Bags          type  \\\n",
       "0   48.16     8696.87     8603.62       93.25          0.0  conventional   \n",
       "1   58.33     9505.56     9408.07       97.49          0.0  conventional   \n",
       "2  130.50     8145.35     8042.21      103.14          0.0  conventional   \n",
       "3   72.58     5811.16     5677.40      133.76          0.0  conventional   \n",
       "4   75.78     6183.95     5986.26      197.69          0.0  conventional   \n",
       "\n",
       "   year  region  \n",
       "0  2015  Albany  \n",
       "1  2015  Albany  \n",
       "2  2015  Albany  \n",
       "3  2015  Albany  \n",
       "4  2015  Albany  "
      ]
     },
     "execution_count": 2,
     "metadata": {},
     "output_type": "execute_result"
    }
   ],
   "source": [
    "# loading dataset\n",
    "df = pd.read_csv('C://Users//rahul//OneDrive//Desktop//data trained//internship//Evaluation project//phase 1//Avocado Project-proj_2//avocado.csv')\n",
    "df.head()"
   ]
  },
  {
   "cell_type": "code",
   "execution_count": 3,
   "id": "bc21a631",
   "metadata": {},
   "outputs": [
    {
     "name": "stdout",
     "output_type": "stream",
     "text": [
      "<class 'pandas.core.frame.DataFrame'>\n",
      "RangeIndex: 18249 entries, 0 to 18248\n",
      "Data columns (total 14 columns):\n",
      " #   Column        Non-Null Count  Dtype  \n",
      "---  ------        --------------  -----  \n",
      " 0   Unnamed: 0    18249 non-null  int64  \n",
      " 1   Date          18249 non-null  object \n",
      " 2   AveragePrice  18249 non-null  float64\n",
      " 3   Total Volume  18249 non-null  float64\n",
      " 4   4046          18249 non-null  float64\n",
      " 5   4225          18249 non-null  float64\n",
      " 6   4770          18249 non-null  float64\n",
      " 7   Total Bags    18249 non-null  float64\n",
      " 8   Small Bags    18249 non-null  float64\n",
      " 9   Large Bags    18249 non-null  float64\n",
      " 10  XLarge Bags   18249 non-null  float64\n",
      " 11  type          18249 non-null  object \n",
      " 12  year          18249 non-null  int64  \n",
      " 13  region        18249 non-null  object \n",
      "dtypes: float64(9), int64(2), object(3)\n",
      "memory usage: 1.9+ MB\n"
     ]
    }
   ],
   "source": [
    "# about dataset\n",
    "df.info()"
   ]
  },
  {
   "cell_type": "code",
   "execution_count": 4,
   "id": "7f4af855",
   "metadata": {},
   "outputs": [
    {
     "data": {
      "text/html": [
       "<div>\n",
       "<style scoped>\n",
       "    .dataframe tbody tr th:only-of-type {\n",
       "        vertical-align: middle;\n",
       "    }\n",
       "\n",
       "    .dataframe tbody tr th {\n",
       "        vertical-align: top;\n",
       "    }\n",
       "\n",
       "    .dataframe thead th {\n",
       "        text-align: right;\n",
       "    }\n",
       "</style>\n",
       "<table border=\"1\" class=\"dataframe\">\n",
       "  <thead>\n",
       "    <tr style=\"text-align: right;\">\n",
       "      <th></th>\n",
       "      <th>Unnamed: 0</th>\n",
       "      <th>AveragePrice</th>\n",
       "      <th>Total Volume</th>\n",
       "      <th>4046</th>\n",
       "      <th>4225</th>\n",
       "      <th>4770</th>\n",
       "      <th>Total Bags</th>\n",
       "      <th>Small Bags</th>\n",
       "      <th>Large Bags</th>\n",
       "      <th>XLarge Bags</th>\n",
       "      <th>year</th>\n",
       "    </tr>\n",
       "  </thead>\n",
       "  <tbody>\n",
       "    <tr>\n",
       "      <th>count</th>\n",
       "      <td>18249.000000</td>\n",
       "      <td>18249.000000</td>\n",
       "      <td>1.824900e+04</td>\n",
       "      <td>1.824900e+04</td>\n",
       "      <td>1.824900e+04</td>\n",
       "      <td>1.824900e+04</td>\n",
       "      <td>1.824900e+04</td>\n",
       "      <td>1.824900e+04</td>\n",
       "      <td>1.824900e+04</td>\n",
       "      <td>18249.000000</td>\n",
       "      <td>18249.000000</td>\n",
       "    </tr>\n",
       "    <tr>\n",
       "      <th>mean</th>\n",
       "      <td>24.232232</td>\n",
       "      <td>1.405978</td>\n",
       "      <td>8.506440e+05</td>\n",
       "      <td>2.930084e+05</td>\n",
       "      <td>2.951546e+05</td>\n",
       "      <td>2.283974e+04</td>\n",
       "      <td>2.396392e+05</td>\n",
       "      <td>1.821947e+05</td>\n",
       "      <td>5.433809e+04</td>\n",
       "      <td>3106.426507</td>\n",
       "      <td>2016.147899</td>\n",
       "    </tr>\n",
       "    <tr>\n",
       "      <th>std</th>\n",
       "      <td>15.481045</td>\n",
       "      <td>0.402677</td>\n",
       "      <td>3.453545e+06</td>\n",
       "      <td>1.264989e+06</td>\n",
       "      <td>1.204120e+06</td>\n",
       "      <td>1.074641e+05</td>\n",
       "      <td>9.862424e+05</td>\n",
       "      <td>7.461785e+05</td>\n",
       "      <td>2.439660e+05</td>\n",
       "      <td>17692.894652</td>\n",
       "      <td>0.939938</td>\n",
       "    </tr>\n",
       "    <tr>\n",
       "      <th>min</th>\n",
       "      <td>0.000000</td>\n",
       "      <td>0.440000</td>\n",
       "      <td>8.456000e+01</td>\n",
       "      <td>0.000000e+00</td>\n",
       "      <td>0.000000e+00</td>\n",
       "      <td>0.000000e+00</td>\n",
       "      <td>0.000000e+00</td>\n",
       "      <td>0.000000e+00</td>\n",
       "      <td>0.000000e+00</td>\n",
       "      <td>0.000000</td>\n",
       "      <td>2015.000000</td>\n",
       "    </tr>\n",
       "    <tr>\n",
       "      <th>25%</th>\n",
       "      <td>10.000000</td>\n",
       "      <td>1.100000</td>\n",
       "      <td>1.083858e+04</td>\n",
       "      <td>8.540700e+02</td>\n",
       "      <td>3.008780e+03</td>\n",
       "      <td>0.000000e+00</td>\n",
       "      <td>5.088640e+03</td>\n",
       "      <td>2.849420e+03</td>\n",
       "      <td>1.274700e+02</td>\n",
       "      <td>0.000000</td>\n",
       "      <td>2015.000000</td>\n",
       "    </tr>\n",
       "    <tr>\n",
       "      <th>50%</th>\n",
       "      <td>24.000000</td>\n",
       "      <td>1.370000</td>\n",
       "      <td>1.073768e+05</td>\n",
       "      <td>8.645300e+03</td>\n",
       "      <td>2.906102e+04</td>\n",
       "      <td>1.849900e+02</td>\n",
       "      <td>3.974383e+04</td>\n",
       "      <td>2.636282e+04</td>\n",
       "      <td>2.647710e+03</td>\n",
       "      <td>0.000000</td>\n",
       "      <td>2016.000000</td>\n",
       "    </tr>\n",
       "    <tr>\n",
       "      <th>75%</th>\n",
       "      <td>38.000000</td>\n",
       "      <td>1.660000</td>\n",
       "      <td>4.329623e+05</td>\n",
       "      <td>1.110202e+05</td>\n",
       "      <td>1.502069e+05</td>\n",
       "      <td>6.243420e+03</td>\n",
       "      <td>1.107834e+05</td>\n",
       "      <td>8.333767e+04</td>\n",
       "      <td>2.202925e+04</td>\n",
       "      <td>132.500000</td>\n",
       "      <td>2017.000000</td>\n",
       "    </tr>\n",
       "    <tr>\n",
       "      <th>max</th>\n",
       "      <td>52.000000</td>\n",
       "      <td>3.250000</td>\n",
       "      <td>6.250565e+07</td>\n",
       "      <td>2.274362e+07</td>\n",
       "      <td>2.047057e+07</td>\n",
       "      <td>2.546439e+06</td>\n",
       "      <td>1.937313e+07</td>\n",
       "      <td>1.338459e+07</td>\n",
       "      <td>5.719097e+06</td>\n",
       "      <td>551693.650000</td>\n",
       "      <td>2018.000000</td>\n",
       "    </tr>\n",
       "  </tbody>\n",
       "</table>\n",
       "</div>"
      ],
      "text/plain": [
       "         Unnamed: 0  AveragePrice  Total Volume          4046          4225  \\\n",
       "count  18249.000000  18249.000000  1.824900e+04  1.824900e+04  1.824900e+04   \n",
       "mean      24.232232      1.405978  8.506440e+05  2.930084e+05  2.951546e+05   \n",
       "std       15.481045      0.402677  3.453545e+06  1.264989e+06  1.204120e+06   \n",
       "min        0.000000      0.440000  8.456000e+01  0.000000e+00  0.000000e+00   \n",
       "25%       10.000000      1.100000  1.083858e+04  8.540700e+02  3.008780e+03   \n",
       "50%       24.000000      1.370000  1.073768e+05  8.645300e+03  2.906102e+04   \n",
       "75%       38.000000      1.660000  4.329623e+05  1.110202e+05  1.502069e+05   \n",
       "max       52.000000      3.250000  6.250565e+07  2.274362e+07  2.047057e+07   \n",
       "\n",
       "               4770    Total Bags    Small Bags    Large Bags    XLarge Bags  \\\n",
       "count  1.824900e+04  1.824900e+04  1.824900e+04  1.824900e+04   18249.000000   \n",
       "mean   2.283974e+04  2.396392e+05  1.821947e+05  5.433809e+04    3106.426507   \n",
       "std    1.074641e+05  9.862424e+05  7.461785e+05  2.439660e+05   17692.894652   \n",
       "min    0.000000e+00  0.000000e+00  0.000000e+00  0.000000e+00       0.000000   \n",
       "25%    0.000000e+00  5.088640e+03  2.849420e+03  1.274700e+02       0.000000   \n",
       "50%    1.849900e+02  3.974383e+04  2.636282e+04  2.647710e+03       0.000000   \n",
       "75%    6.243420e+03  1.107834e+05  8.333767e+04  2.202925e+04     132.500000   \n",
       "max    2.546439e+06  1.937313e+07  1.338459e+07  5.719097e+06  551693.650000   \n",
       "\n",
       "               year  \n",
       "count  18249.000000  \n",
       "mean    2016.147899  \n",
       "std        0.939938  \n",
       "min     2015.000000  \n",
       "25%     2015.000000  \n",
       "50%     2016.000000  \n",
       "75%     2017.000000  \n",
       "max     2018.000000  "
      ]
     },
     "execution_count": 4,
     "metadata": {},
     "output_type": "execute_result"
    }
   ],
   "source": [
    "df.describe()"
   ]
  },
  {
   "cell_type": "code",
   "execution_count": 5,
   "id": "275b99c2",
   "metadata": {},
   "outputs": [
    {
     "data": {
      "text/plain": [
       "Unnamed: 0      0\n",
       "Date            0\n",
       "AveragePrice    0\n",
       "Total Volume    0\n",
       "4046            0\n",
       "4225            0\n",
       "4770            0\n",
       "Total Bags      0\n",
       "Small Bags      0\n",
       "Large Bags      0\n",
       "XLarge Bags     0\n",
       "type            0\n",
       "year            0\n",
       "region          0\n",
       "dtype: int64"
      ]
     },
     "execution_count": 5,
     "metadata": {},
     "output_type": "execute_result"
    }
   ],
   "source": [
    "df.isnull().sum()"
   ]
  },
  {
   "cell_type": "code",
   "execution_count": 6,
   "id": "0575a3b7",
   "metadata": {},
   "outputs": [],
   "source": [
    "# as date should have dtype as datetime\n",
    "df['Date'] = pd.to_datetime(df['Date'])\n",
    "df['Month'] = df['Date'].dt.month"
   ]
  },
  {
   "cell_type": "code",
   "execution_count": 8,
   "id": "50cdcca1",
   "metadata": {},
   "outputs": [
    {
     "name": "stdout",
     "output_type": "stream",
     "text": [
      "<class 'pandas.core.frame.DataFrame'>\n",
      "RangeIndex: 18249 entries, 0 to 18248\n",
      "Data columns (total 15 columns):\n",
      " #   Column        Non-Null Count  Dtype         \n",
      "---  ------        --------------  -----         \n",
      " 0   Unnamed: 0    18249 non-null  int64         \n",
      " 1   Date          18249 non-null  datetime64[ns]\n",
      " 2   AveragePrice  18249 non-null  float64       \n",
      " 3   Total Volume  18249 non-null  float64       \n",
      " 4   4046          18249 non-null  float64       \n",
      " 5   4225          18249 non-null  float64       \n",
      " 6   4770          18249 non-null  float64       \n",
      " 7   Total Bags    18249 non-null  float64       \n",
      " 8   Small Bags    18249 non-null  float64       \n",
      " 9   Large Bags    18249 non-null  float64       \n",
      " 10  XLarge Bags   18249 non-null  float64       \n",
      " 11  type          18249 non-null  object        \n",
      " 12  year          18249 non-null  int64         \n",
      " 13  region        18249 non-null  object        \n",
      " 14  Month         18249 non-null  int64         \n",
      "dtypes: datetime64[ns](1), float64(9), int64(3), object(2)\n",
      "memory usage: 2.1+ MB\n"
     ]
    }
   ],
   "source": [
    "df.info()"
   ]
  },
  {
   "cell_type": "code",
   "execution_count": 9,
   "id": "4cab9832",
   "metadata": {},
   "outputs": [
    {
     "data": {
      "image/png": "[encoded data removed]",
      "text/plain": [
       "<Figure size 864x648 with 2 Axes>"
      ]
     },
     "metadata": {
      "needs_background": "light"
     },
     "output_type": "display_data"
    }
   ],
   "source": [
    "# now to find corelation of dependent and independent variables\n",
    "plt.figure(figsize=(12,9))\n",
    "sns.heatmap(df.corr(), annot=True,cmap='crest')\n",
    "plt.show()"
   ]
  },
  {
   "cell_type": "code",
   "execution_count": 11,
   "id": "db68fca3",
   "metadata": {},
   "outputs": [
    {
     "data": {
      "image/png": "[encoded data removed]",
      "text/plain": [
       "<Figure size 432x288 with 1 Axes>"
      ]
     },
     "metadata": {
      "needs_background": "light"
     },
     "output_type": "display_data"
    }
   ],
   "source": [
    "# relationship between Avocado type and avg price\n",
    "sns.boxplot(x='type', y='AveragePrice', data=df)\n",
    "plt.show()"
   ]
  },
  {
   "cell_type": "code",
   "execution_count": 13,
   "id": "73944160",
   "metadata": {},
   "outputs": [],
   "source": [
    "# to convert Categorical variable to numeric one\n",
    "from sklearn.preprocessing import LabelEncoder, StandardScaler"
   ]
  },
  {
   "cell_type": "code",
   "execution_count": 14,
   "id": "9cecccd9",
   "metadata": {},
   "outputs": [],
   "source": [
    "le = LabelEncoder()"
   ]
  },
  {
   "cell_type": "code",
   "execution_count": 15,
   "id": "9b31210b",
   "metadata": {},
   "outputs": [],
   "source": [
    "df['type'] = le.fit_transform(df['type'])"
   ]
  },
  {
   "cell_type": "code",
   "execution_count": 16,
   "id": "f11e5f44",
   "metadata": {},
   "outputs": [],
   "source": [
    "# scaling the features\n",
    "sc = StandardScaler()\n",
    "scaled_features = sc.fit_transform(df[['Total Volume', '4046', '4225', '4770']])\n",
    "df_scaled = pd.DataFrame(scaled_features, columns=['Total Volume', '4046', '4225', '4770'])"
   ]
  },
  {
   "cell_type": "code",
   "execution_count": 25,
   "id": "a497ac23",
   "metadata": {},
   "outputs": [],
   "source": [
    "# we have two task in this project, we have to classify the as per type and predict he price \n",
    "# classification\n",
    "from sklearn.linear_model import LogisticRegression\n",
    "from sklearn.ensemble import RandomForestClassifier\n",
    "from sklearn.svm import SVC\n",
    "from sklearn.metrics import accuracy_score, classification_report"
   ]
  },
  {
   "cell_type": "code",
   "execution_count": 21,
   "id": "70c98e69",
   "metadata": {},
   "outputs": [],
   "source": [
    "x=df_scaled\n",
    "y=df['type']"
   ]
  },
  {
   "cell_type": "code",
   "execution_count": 22,
   "id": "774f968e",
   "metadata": {},
   "outputs": [],
   "source": [
    "from sklearn.model_selection import train_test_split"
   ]
  },
  {
   "cell_type": "code",
   "execution_count": 23,
   "id": "8b579b15",
   "metadata": {},
   "outputs": [],
   "source": [
    "x_train, x_test, y_train, y_test = train_test_split(x,y,test_size=0.2, random_state=42)\n"
   ]
  },
  {
   "cell_type": "code",
   "execution_count": 43,
   "id": "066a26e7",
   "metadata": {},
   "outputs": [
    {
     "name": "stdout",
     "output_type": "stream",
     "text": [
      "Accuracy score:  0.8915068493150685\n",
      "Classification Report:                precision    recall  f1-score   support\n",
      "\n",
      "           0       0.97      0.81      0.88      1820\n",
      "           1       0.84      0.97      0.90      1830\n",
      "\n",
      "    accuracy                           0.89      3650\n",
      "   macro avg       0.90      0.89      0.89      3650\n",
      "weighted avg       0.90      0.89      0.89      3650\n",
      "\n"
     ]
    }
   ],
   "source": [
    "#model building\n",
    "# Logistic regression\n",
    "lr = LogisticRegression()\n",
    "lr.fit(x_train, y_train)\n",
    "pred_lr = lr.predict(x_test)\n",
    "print('Accuracy score: ', accuracy_score(y_test, pred_lr))\n",
    "print('Classification Report: ', classification_report(y_test, pred_lr))"
   ]
  },
  {
   "cell_type": "code",
   "execution_count": 27,
   "id": "24dfc8e2",
   "metadata": {},
   "outputs": [
    {
     "name": "stdout",
     "output_type": "stream",
     "text": [
      "Accuracy score:  0.9819178082191781\n",
      "Classification Report:                precision    recall  f1-score   support\n",
      "\n",
      "           0       0.98      0.99      0.98      1820\n",
      "           1       0.99      0.98      0.98      1830\n",
      "\n",
      "    accuracy                           0.98      3650\n",
      "   macro avg       0.98      0.98      0.98      3650\n",
      "weighted avg       0.98      0.98      0.98      3650\n",
      "\n"
     ]
    }
   ],
   "source": [
    "# Random forest classifier\n",
    "rfr = RandomForestClassifier()\n",
    "rfr.fit(x_train, y_train)\n",
    "pred_rfr = rfr.predict(x_test)\n",
    "print('Accuracy score: ', accuracy_score(y_test, pred_rfr))\n",
    "print('Classification Report: ', classification_report(y_test, pred_rfr))"
   ]
  },
  {
   "cell_type": "code",
   "execution_count": 28,
   "id": "53e6c3a6",
   "metadata": {},
   "outputs": [
    {
     "name": "stdout",
     "output_type": "stream",
     "text": [
      "Accuracy score:  0.9049315068493151\n",
      "Classification Report:                precision    recall  f1-score   support\n",
      "\n",
      "           0       0.96      0.84      0.90      1820\n",
      "           1       0.86      0.97      0.91      1830\n",
      "\n",
      "    accuracy                           0.90      3650\n",
      "   macro avg       0.91      0.90      0.90      3650\n",
      "weighted avg       0.91      0.90      0.90      3650\n",
      "\n"
     ]
    }
   ],
   "source": [
    "# Support vector classifier\n",
    "svc = SVC()\n",
    "svc.fit(x_train, y_train)\n",
    "pred_svc = svc.predict(x_test)\n",
    "print('Accuracy score: ', accuracy_score(y_test, pred_svc))\n",
    "print('Classification Report: ', classification_report(y_test, pred_svc))"
   ]
  },
  {
   "cell_type": "code",
   "execution_count": 30,
   "id": "f2815cef",
   "metadata": {},
   "outputs": [],
   "source": [
    "# Regression task to predict price\n",
    "from sklearn.linear_model import LinearRegression\n",
    "from sklearn.tree import DecisionTreeRegressor\n",
    "from sklearn.ensemble import RandomForestRegressor\n",
    "from sklearn.metrics import r2_score, mean_squared_error, mean_absolute_error"
   ]
  },
  {
   "cell_type": "code",
   "execution_count": 31,
   "id": "70ec51b6",
   "metadata": {},
   "outputs": [
    {
     "data": {
      "text/html": [
       "<div>\n",
       "<style scoped>\n",
       "    .dataframe tbody tr th:only-of-type {\n",
       "        vertical-align: middle;\n",
       "    }\n",
       "\n",
       "    .dataframe tbody tr th {\n",
       "        vertical-align: top;\n",
       "    }\n",
       "\n",
       "    .dataframe thead th {\n",
       "        text-align: right;\n",
       "    }\n",
       "</style>\n",
       "<table border=\"1\" class=\"dataframe\">\n",
       "  <thead>\n",
       "    <tr style=\"text-align: right;\">\n",
       "      <th></th>\n",
       "      <th>Total Volume</th>\n",
       "      <th>4046</th>\n",
       "      <th>4225</th>\n",
       "      <th>4770</th>\n",
       "    </tr>\n",
       "  </thead>\n",
       "  <tbody>\n",
       "    <tr>\n",
       "      <th>0</th>\n",
       "      <td>-0.227716</td>\n",
       "      <td>-0.230816</td>\n",
       "      <td>-0.199902</td>\n",
       "      <td>-0.212091</td>\n",
       "    </tr>\n",
       "    <tr>\n",
       "      <th>1</th>\n",
       "      <td>-0.230427</td>\n",
       "      <td>-0.231103</td>\n",
       "      <td>-0.208054</td>\n",
       "      <td>-0.211997</td>\n",
       "    </tr>\n",
       "    <tr>\n",
       "      <th>2</th>\n",
       "      <td>-0.212085</td>\n",
       "      <td>-0.231007</td>\n",
       "      <td>-0.154478</td>\n",
       "      <td>-0.211325</td>\n",
       "    </tr>\n",
       "    <tr>\n",
       "      <th>3</th>\n",
       "      <td>-0.223444</td>\n",
       "      <td>-0.230741</td>\n",
       "      <td>-0.185350</td>\n",
       "      <td>-0.211864</td>\n",
       "    </tr>\n",
       "    <tr>\n",
       "      <th>4</th>\n",
       "      <td>-0.231538</td>\n",
       "      <td>-0.230891</td>\n",
       "      <td>-0.208719</td>\n",
       "      <td>-0.211834</td>\n",
       "    </tr>\n",
       "    <tr>\n",
       "      <th>...</th>\n",
       "      <td>...</td>\n",
       "      <td>...</td>\n",
       "      <td>...</td>\n",
       "      <td>...</td>\n",
       "    </tr>\n",
       "    <tr>\n",
       "      <th>18244</th>\n",
       "      <td>-0.241373</td>\n",
       "      <td>-0.230017</td>\n",
       "      <td>-0.243857</td>\n",
       "      <td>-0.212540</td>\n",
       "    </tr>\n",
       "    <tr>\n",
       "      <th>18245</th>\n",
       "      <td>-0.242296</td>\n",
       "      <td>-0.230693</td>\n",
       "      <td>-0.242277</td>\n",
       "      <td>-0.212540</td>\n",
       "    </tr>\n",
       "    <tr>\n",
       "      <th>18246</th>\n",
       "      <td>-0.242331</td>\n",
       "      <td>-0.230693</td>\n",
       "      <td>-0.243090</td>\n",
       "      <td>-0.205766</td>\n",
       "    </tr>\n",
       "    <tr>\n",
       "      <th>18247</th>\n",
       "      <td>-0.241625</td>\n",
       "      <td>-0.230428</td>\n",
       "      <td>-0.242651</td>\n",
       "      <td>-0.205774</td>\n",
       "    </tr>\n",
       "    <tr>\n",
       "      <th>18248</th>\n",
       "      <td>-0.241253</td>\n",
       "      <td>-0.229347</td>\n",
       "      <td>-0.243170</td>\n",
       "      <td>-0.210450</td>\n",
       "    </tr>\n",
       "  </tbody>\n",
       "</table>\n",
       "<p>18249 rows × 4 columns</p>\n",
       "</div>"
      ],
      "text/plain": [
       "       Total Volume      4046      4225      4770\n",
       "0         -0.227716 -0.230816 -0.199902 -0.212091\n",
       "1         -0.230427 -0.231103 -0.208054 -0.211997\n",
       "2         -0.212085 -0.231007 -0.154478 -0.211325\n",
       "3         -0.223444 -0.230741 -0.185350 -0.211864\n",
       "4         -0.231538 -0.230891 -0.208719 -0.211834\n",
       "...             ...       ...       ...       ...\n",
       "18244     -0.241373 -0.230017 -0.243857 -0.212540\n",
       "18245     -0.242296 -0.230693 -0.242277 -0.212540\n",
       "18246     -0.242331 -0.230693 -0.243090 -0.205766\n",
       "18247     -0.241625 -0.230428 -0.242651 -0.205774\n",
       "18248     -0.241253 -0.229347 -0.243170 -0.210450\n",
       "\n",
       "[18249 rows x 4 columns]"
      ]
     },
     "execution_count": 31,
     "metadata": {},
     "output_type": "execute_result"
    }
   ],
   "source": [
    "df_scaled"
   ]
  },
  {
   "cell_type": "code",
   "execution_count": 32,
   "id": "88db05d0",
   "metadata": {},
   "outputs": [],
   "source": [
    "x_r = df_scaled\n",
    "y_r = df['AveragePrice']"
   ]
  },
  {
   "cell_type": "code",
   "execution_count": 33,
   "id": "5a48aaa6",
   "metadata": {},
   "outputs": [],
   "source": [
    "x_r_train, x_r_test, y_r_train, y_r_test = train_test_split(x_r,y_r,test_size=0.2, random_state=42)"
   ]
  },
  {
   "cell_type": "code",
   "execution_count": 36,
   "id": "368ec85c",
   "metadata": {},
   "outputs": [
    {
     "name": "stdout",
     "output_type": "stream",
     "text": [
      "R2 Score:  0.03996005046475659\n",
      "Mean Absolute Error:  0.3155136720023545\n",
      "Root Mean Scored Error:  0.3927451319115163\n"
     ]
    }
   ],
   "source": [
    "#modelbuilding\n",
    "# Linear Regression\n",
    "lrg = LinearRegression()\n",
    "lrg.fit(x_r_train, y_r_train)\n",
    "pred_lrg = lrg.predict(x_r_test)\n",
    "print('R2 Score: ',r2_score(y_r_test, pred_lrg))\n",
    "print('Mean Absolute Error: ',mean_absolute_error(y_r_test, pred_lrg))\n",
    "print('Root Mean Scored Error: ',np.sqrt(mean_squared_error(y_r_test, pred_lrg)))"
   ]
  },
  {
   "cell_type": "code",
   "execution_count": 38,
   "id": "bcc203cb",
   "metadata": {},
   "outputs": [
    {
     "name": "stdout",
     "output_type": "stream",
     "text": [
      "R2 Score:  0.3852256399484074\n",
      "Mean Absolute Error:  0.21224657534246574\n",
      "Root Mean Scored Error:  0.3142852730827716\n"
     ]
    }
   ],
   "source": [
    "# Decison tree Regressor\n",
    "dtr = DecisionTreeRegressor()\n",
    "dtr.fit(x_r_train, y_r_train)\n",
    "pred_dtr = dtr.predict(x_r_test)\n",
    "print('R2 Score: ',r2_score(y_r_test, pred_dtr))\n",
    "print('Mean Absolute Error: ',mean_absolute_error(y_r_test, pred_dtr))\n",
    "print('Root Mean Scored Error: ',np.sqrt(mean_squared_error(y_r_test, pred_dtr)))"
   ]
  },
  {
   "cell_type": "code",
   "execution_count": 39,
   "id": "c15fd4b2",
   "metadata": {},
   "outputs": [
    {
     "name": "stdout",
     "output_type": "stream",
     "text": [
      "R2 Score:  0.6605421634086708\n",
      "Mean Absolute Error:  0.16485391780821917\n",
      "Root Mean Scored Error:  0.23353881782294134\n"
     ]
    }
   ],
   "source": [
    "# Random Forest Regressor\n",
    "rfr = RandomForestRegressor()\n",
    "rfr.fit(x_r_train, y_r_train)\n",
    "pred_rfr = rfr.predict(x_r_test)\n",
    "print('R2 Score: ',r2_score(y_r_test, pred_rfr))\n",
    "print('Mean Absolute Error: ',mean_absolute_error(y_r_test, pred_rfr))\n",
    "print('Root Mean Scored Error: ',np.sqrt(mean_squared_error(y_r_test, pred_rfr)))"
   ]
  },
  {
   "cell_type": "code",
   "execution_count": 40,
   "id": "c2e5fd2f",
   "metadata": {},
   "outputs": [],
   "source": [
    "# Tuning the Hyper Parameter\n",
    "from sklearn.model_selection import GridSearchCV"
   ]
  },
  {
   "cell_type": "code",
   "execution_count": 42,
   "id": "5049289e",
   "metadata": {},
   "outputs": [
    {
     "name": "stdout",
     "output_type": "stream",
     "text": [
      "R2 Score:  0.6629446298657369\n",
      "Mean Absolute Error:  0.16456286329535474\n",
      "Root Mean Scored Error:  0.2327109308708524\n"
     ]
    }
   ],
   "source": [
    "param_grid_rf = {\n",
    "    'n_estimators': [100, 200, 300],\n",
    "    'max_depth': [10, 20, 30],\n",
    "    'min_samples_split': [2, 5, 10]\n",
    "}\n",
    "\n",
    "grid_search_rf = GridSearchCV(estimator=rfr, param_grid=param_grid_rf, cv=5, n_jobs=-1)\n",
    "grid_search_rf.fit(x_r_train, y_r_train)\n",
    "best_rf_reg = grid_search_rf.best_estimator_\n",
    "pred_best_rf = best_rf_reg.predict(x_r_test)\n",
    "print('R2 Score: ',r2_score(y_r_test, pred_best_rf))\n",
    "print('Mean Absolute Error: ',mean_absolute_error(y_r_test, pred_best_rf))\n",
    "print('Root Mean Scored Error: ',np.sqrt(mean_squared_error(y_r_test, pred_best_rf)))"
   ]
  },
  {
   "cell_type": "markdown",
   "id": "58496877",
   "metadata": {},
   "source": [
    "## Avocado Project Summary\n",
    "\n",
    "#Classification Task\n",
    "Final Model: Random Forest Classifier\n",
    "Accuracy: 0.9819178082191781\n",
    "Precision, Recall, F1-score: .98, .99, .98\n",
    "Rationale: Best trade-off between performance and interpretability.\n",
    "\n",
    "#Regression Task\n",
    "Final Model: Random Forest Regressor\n",
    "R2 Score:  0.6629446298657369\n",
    "Mean Absolute Error:  0.16456286329535474\n",
    "Root Mean Scored Error:  0.2327109308708524"
   ]
  },
  {
   "cell_type": "code",
   "execution_count": 44,
   "id": "3ad83d9c",
   "metadata": {},
   "outputs": [
    {
     "data": {
      "text/plain": [
       "['best_avocado_regressor.pkl']"
      ]
     },
     "execution_count": 44,
     "metadata": {},
     "output_type": "execute_result"
    }
   ],
   "source": [
    "import joblib\n",
    "\n",
    "# Save classification model\n",
    "joblib.dump(rfr, 'best_avocado_classifier.pkl')\n",
    "\n",
    "# Save regression model\n",
    "joblib.dump(best_rf_reg, 'best_avocado_regressor.pkl')\n"
   ]
  },
  {
   "cell_type": "code",
   "execution_count": null,
   "id": "072219d1",
   "metadata": {},
   "outputs": [],
   "source": []
  }
 ],
 "metadata": {
  "kernelspec": {
   "display_name": "Python 3 (ipykernel)",
   "language": "python",
   "name": "python3"
  },
  "language_info": {
   "codemirror_mode": {
    "name": "ipython",
    "version": 3
   },
   "file_extension": ".py",
   "mimetype": "text/x-python",
   "name": "python",
   "nbconvert_exporter": "python",
   "pygments_lexer": "ipython3",
   "version": "3.9.12"
  }
 },
 "nbformat": 4,
 "nbformat_minor": 5
}
